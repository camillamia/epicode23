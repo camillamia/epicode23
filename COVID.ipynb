{
 "cells": [
  {
   "cell_type": "code",
   "execution_count": null,
   "metadata": {},
   "outputs": [],
   "source": [
    "import pandas as pd\n",
    "file_path = \"C:/Users/cami-/OneDrive/Desktop/owid-covid-data.csv\"\n",
    "covid = pd.read_csv(\"C:/Users/cami-/OneDrive/Desktop/owid-covid-data.csv\")\n",
    "print(covid)"
   ]
  },
  {
   "cell_type": "code",
   "execution_count": null,
   "metadata": {},
   "outputs": [],
   "source": [
    "print(covid.shape)\n",
    "print(covid.columns)"
   ]
  },
  {
   "cell_type": "code",
   "execution_count": null,
   "metadata": {},
   "outputs": [],
   "source": [
    "casi_totali_per_continente = covid.groupby('continent')['total_cases'].sum()\n",
    "print(casi_totali_per_continente)"
   ]
  },
  {
   "cell_type": "code",
   "execution_count": null,
   "metadata": {},
   "outputs": [],
   "source": [
    "def confronta_covid(covid, continente1, continente2):\n",
    "    data=pd.read_csv(covid)\n",
    "    filtro1=(data['continent']==continente1)\n",
    "    casi_cont1=data[filtro1]['total_cases']\n",
    "    filtro2=(data['continent']==continente2)\n",
    "    casi_cont2=data[filtro2]['total_cases']\n",
    "    locazioni_senza_continente=data[data['continent'].isnull()]['total_cases']\n",
    "    minimo_cont1=casi_cont1.min()\n",
    "    massimo_cont1=casi_cont1.max()\n",
    "    media_cont1=casi_cont1.mean()\n",
    "    minimo_cont2=casi_cont2.min()\n",
    "    massimo_cont2=casi_cont2.max()\n",
    "    media_cont2=casi_cont2.mean()\n",
    "    minimo_senza_continente=locazioni_senza_continente.min()\n",
    "    massimo_senza_continente=locazioni_senza_continente.max()\n",
    "    media_senza_continente=locazioni_senza_continente.mean()\n",
    "    casi_totali_mondo=data['total_cases'].sum()\n",
    "    percentuale_cont1=(casi_cont1.sum() / casi_totali_mondo) * 100\n",
    "    percentuale_cont2=(casi_cont2.sum() / casi_totali_mondo) * 100\n",
    "    percentuale_senza_continente=(locazioni_senza_continente.sum() / casi_totali_mondo) * 100\n",
    "    risultati = {\n",
    "        'Minimo_{}'.format(continente1): minimo_cont1,\n",
    "        'Massimo_{}'.format(continente1): massimo_cont1,\n",
    "        'Media_{}'.format(continente1): media_cont1,\n",
    "        'Minimo_{}'.format(continente2): minimo_cont2,\n",
    "        'Massimo_{}'.format(continente2): massimo_cont2,\n",
    "        'Media_{}'.format(continente2): media_cont2,\n",
    "        'Minimo_Locazioni_Senza_Continente': minimo_senza_continente,\n",
    "        'Massimo_Locazioni_Senza_Continente': massimo_senza_continente,\n",
    "        'Media_Locazioni_Senza_Continente': media_senza_continente,\n",
    "        'Percentuale_{}_rispetto_al_Mondo'.format(continente1): percentuale_cont1,\n",
    "        'Percentuale_{}_rispetto_al_Mondo'.format(continente2): percentuale_cont2,\n",
    "        'Percentuale_Locazioni_Senza_Continente_rispetto_al_Mondo': percentuale_senza_continente,\n",
    "    }\n",
    "    return risultati\n",
    "\n",
    "confronta_covid(file_path, 'Europe', 'Asia')"
   ]
  },
  {
   "cell_type": "code",
   "execution_count": null,
   "metadata": {},
   "outputs": [],
   "source": [
    "def confronta_vaccinazioni(covid, continente_1, continente_2):\n",
    "    data=pd.read_csv(covid)\n",
    "    filtro1=(data['continent']==continente_1)\n",
    "    vaccinazioni_cont1=data[filtro1]['total_vaccinations']\n",
    "    filtro2=(data['continent']==continente_2)\n",
    "    vaccinazioni_cont2=data[filtro2]['total_vaccinations']\n",
    "    locazioni_senza_continente=data[data['continent'].isnull()]['total_vaccinations']\n",
    "    minimo_cont1=vaccinazioni_cont1.min()\n",
    "    massimo_cont1=vaccinazioni_cont1.max()\n",
    "    media_cont1=vaccinazioni_cont1.mean()\n",
    "    minimo_cont2=vaccinazioni_cont2.min()\n",
    "    massimo_cont2=vaccinazioni_cont2.max()\n",
    "    media_cont2=vaccinazioni_cont2.mean()\n",
    "    minimo_loc_senza_continente=locazioni_senza_continente.min()\n",
    "    massimo_loc_senza_continente=locazioni_senza_continente.max()\n",
    "    media_loc_senza_continente=locazioni_senza_continente.mean()\n",
    "    vaccinazioni_totali_mondo=data['total_vaccinations'].sum()\n",
    "    percentuale_cont1=(vaccinazioni_cont1.sum() / vaccinazioni_totali_mondo) * 100\n",
    "    percentuale_cont2=(vaccinazioni_cont2.sum() / vaccinazioni_totali_mondo) * 100\n",
    "    percentuale_loc_senza_continente=(locazioni_senza_continente.sum() / vaccinazioni_totali_mondo) * 100\n",
    "    risultati={'Minimo_{}'.format(continente_1):minimo_cont1,\n",
    "        'Massimo_{}'.format(continente_1):massimo_cont1,\n",
    "        'Media_{}'.format(continente_1):media_cont1,\n",
    "        'Minimo_{}'.format(continente_2):minimo_cont2,\n",
    "        'Massimo_{}'.format(continente_2):massimo_cont2,\n",
    "        'Media_{}'.format(continente_2):media_cont2,\n",
    "        'Minimo_Locazioni_Senza_Continente':minimo_loc_senza_continente,\n",
    "        'Massimo_Locazioni_Senza_Continente':massimo_loc_senza_continente,\n",
    "        'Media_Locazioni_Senza_Continente':media_loc_senza_continente,\n",
    "        'Percentuale_{}_rispetto_al_Mondo'.format(continente_1):percentuale_cont1,\n",
    "        'Percentuale_{}_rispetto_al_Mondo'.format(continente_2):percentuale_cont2,\n",
    "        'Percentuale_Locazioni_Senza_Continente_rispetto_al_Mondo':percentuale_loc_senza_continente,\n",
    "    }\n",
    "    return risultati\n",
    "\n",
    "confronta_vaccinazioni(file_path, 'Europe', 'Asia')"
   ]
  }
 ],
 "metadata": {
  "kernelspec": {
   "display_name": "Python 3",
   "language": "python",
   "name": "python3"
  },
  "language_info": {
   "codemirror_mode": {
    "name": "ipython",
    "version": 3
   },
   "file_extension": ".py",
   "mimetype": "text/x-python",
   "name": "python",
   "nbconvert_exporter": "python",
   "pygments_lexer": "ipython3",
   "version": "3.11.5"
  },
  "orig_nbformat": 4
 },
 "nbformat": 4,
 "nbformat_minor": 2
}
